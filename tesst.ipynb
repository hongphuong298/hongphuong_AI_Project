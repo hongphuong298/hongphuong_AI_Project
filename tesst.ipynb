{
 "cells": [
  {
   "cell_type": "code",
   "execution_count": null,
   "metadata": {
    "vscode": {
     "languageId": "plaintext"
    }
   },
   "outputs": [],
   "source": [
    "python -W ignore train_synapse.py --root_path /data/synapse/train_npz_new --volume_path /data/synapse/test_vol_h5_new --encoder pvt_v2_b2 "
   ]
  }
 ],
 "metadata": {
  "language_info": {
   "name": "python"
  }
 },
 "nbformat": 4,
 "nbformat_minor": 2
}
